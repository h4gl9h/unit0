{
 "cells": [
  {
   "cell_type": "code",
   "execution_count": 20,
   "metadata": {},
   "outputs": [],
   "source": [
    "import numpy as np\n",
    "# Bisection method\n",
    "def game_core(number): \n",
    "    '''The function accepts the enigmatic number and triesto guess it. Returns the number of attempts'''\n",
    "    count = 0\n",
    "    lim_min = 1     #Entry conditions\n",
    "    lim_max = 101\n",
    "    predict = 50 \n",
    "    \n",
    "    while number != predict: \n",
    "        \n",
    "        count+=1        \n",
    "        if number > predict: \n",
    "            lim_min = predict # If the number is greater than the expected one, raise the lower limit\n",
    "            \n",
    "        elif number < predict: \n",
    "            lim_max = predict # If the number is less than the pre-determined number, reduce the upper limit\n",
    "        \n",
    "        predict = int((lim_max-lim_min) //2) + lim_min # Select a new number in the middle between the limits\n",
    "        \n",
    "    return(count) # Exit cycle if guessed"
   ]
  },
  {
   "cell_type": "code",
   "execution_count": 25,
   "metadata": {},
   "outputs": [],
   "source": [
    "def score_game(game_core):\n",
    "    '''Checking the effectivity of the search function'''\n",
    "    \n",
    "    count_ls = []\n",
    "    np.random.seed(1)  # Fix 'RANDOM SEED' so your experiment is replicable!\n",
    "    random_array = np.random.randint(1,101, size=(1000)) # Generate a list of 1000 random numbers\n",
    "    \n",
    "    for number in random_array:\n",
    "        count_ls.append(game_core(number)) # For each number we use the search function and put the result in the list\n",
    "        \n",
    "    score = int(np.mean(count_ls)) # Calculate an arithmetic average  \n",
    "    \n",
    "    if score>9 and score<21: # Results output\n",
    "        term = 'ок'\n",
    "        \n",
    "    elif score%10 == 1:\n",
    "        term = 'ка'\n",
    "        \n",
    "    elif score%10 in [2,3,4]:\n",
    "        term = 'ки'\n",
    "        \n",
    "    elif score%10 in [5,6,7,8,9]:\n",
    "        term = 'ок'    \n",
    "        \n",
    "    print(f\"Ваш алгоритм угадывает число в среднем за {score} попыт\"+term)\n",
    "    \n",
    "    return(score)"
   ]
  },
  {
   "cell_type": "code",
   "execution_count": 26,
   "metadata": {},
   "outputs": [
    {
     "name": "stdout",
     "output_type": "stream",
     "text": [
      "Ваш алгоритм угадывает число в среднем за 4 попытки\n"
     ]
    },
    {
     "data": {
      "text/plain": [
       "4"
      ]
     },
     "execution_count": 26,
     "metadata": {},
     "output_type": "execute_result"
    }
   ],
   "source": [
    "score_game(game_core)"
   ]
  }
 ],
 "metadata": {
  "kernelspec": {
   "display_name": "Python 3",
   "language": "python",
   "name": "python3"
  },
  "language_info": {
   "codemirror_mode": {
    "name": "ipython",
    "version": 3
   },
   "file_extension": ".py",
   "mimetype": "text/x-python",
   "name": "python",
   "nbconvert_exporter": "python",
   "pygments_lexer": "ipython3",
   "version": "3.7.6"
  }
 },
 "nbformat": 4,
 "nbformat_minor": 4
}
